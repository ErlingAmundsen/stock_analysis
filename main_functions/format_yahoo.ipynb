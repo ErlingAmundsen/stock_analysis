{
 "cells": [
  {
   "cell_type": "markdown",
   "metadata": {},
   "source": [
    "# Formatting Yahoo data"
   ]
  },
  {
   "cell_type": "markdown",
   "metadata": {},
   "source": [
    "Filler function to ensure that every time you want any data of a ticker it is formated the same way, \n",
    "also makes sure to store some metadata in a dictionary, (currently very little different than normal but might come in use in later versions) "
   ]
  },
  {
   "cell_type": "code",
   "execution_count": 1,
   "metadata": {},
   "outputs": [
    {
     "name": "stdout",
     "output_type": "stream",
     "text": [
      "                                 Open        High         Low       Close  \\\n",
      "Date                                                                        \n",
      "2023-01-03 00:00:00-05:00  129.555833  130.172382  123.479795  124.374794   \n",
      "2023-01-04 00:00:00-05:00  126.184691  127.944857  124.384755  125.657639   \n",
      "2023-01-05 00:00:00-05:00  126.423353  127.059795  124.066532  124.325081   \n",
      "2023-01-06 00:00:00-05:00  125.309579  129.565780  124.195801  128.899506   \n",
      "2023-01-09 00:00:00-05:00  129.744773  132.668433  129.167995  129.426544   \n",
      "\n",
      "                              Volume  Dividends  Stock Splits  \n",
      "Date                                                           \n",
      "2023-01-03 00:00:00-05:00  112117500        0.0           0.0  \n",
      "2023-01-04 00:00:00-05:00   89113600        0.0           0.0  \n",
      "2023-01-05 00:00:00-05:00   80962700        0.0           0.0  \n",
      "2023-01-06 00:00:00-05:00   87754700        0.0           0.0  \n",
      "2023-01-09 00:00:00-05:00   70790800        0.0           0.0  \n"
     ]
    }
   ],
   "source": [
    "import format_yahoo as fy\n",
    "import datetime\n",
    "\n",
    "data, _ = fy.format_yahoo('AAPL', start = datetime.datetime(year=2023,day=1,month=1))\n",
    "\n",
    "print(data.head(5))"
   ]
  },
  {
   "cell_type": "markdown",
   "metadata": {},
   "source": [
    "Below are some cases that test if the written warnings and errors that can occur when loading in the data is occuring"
   ]
  },
  {
   "cell_type": "code",
   "execution_count": 2,
   "metadata": {},
   "outputs": [
    {
     "name": "stderr",
     "output_type": "stream",
     "text": [
      "AAPL: No price data found, symbol may be delisted (1d 2024-01-04 -> 2024-01-04)\n"
     ]
    },
    {
     "name": "stdout",
     "output_type": "stream",
     "text": [
      "You need to pass either period (how far back from today do you want the data?)\n",
      "Or you need to pass the start and end date manually\n",
      "\n",
      "\n",
      "no data returned\n",
      "\n",
      "\n",
      "You only need one of these values to get the data, if you dont get all your data it is because you are missing start\n"
     ]
    },
    {
     "name": "stderr",
     "output_type": "stream",
     "text": [
      "AAPL: No price data found, symbol may be delisted (period=1yr)\n"
     ]
    },
    {
     "name": "stdout",
     "output_type": "stream",
     "text": [
      "no data returned\n",
      "\n",
      "\n",
      "WARNING: THE STOCK MIGHT NOT HAVE BEEN OUT AT THE START DATE\n"
     ]
    },
    {
     "data": {
      "text/plain": [
       "(                                 Open        High         Low       Close  \\\n",
       " Date                                                                        \n",
       " 1980-12-12 00:00:00-05:00    0.099319    0.099750    0.099319    0.099319   \n",
       " 1980-12-15 00:00:00-05:00    0.094569    0.094569    0.094137    0.094137   \n",
       " 1980-12-16 00:00:00-05:00    0.087659    0.087659    0.087228    0.087228   \n",
       " 1980-12-17 00:00:00-05:00    0.089387    0.089818    0.089387    0.089387   \n",
       " 1980-12-18 00:00:00-05:00    0.091978    0.092410    0.091978    0.091978   \n",
       " ...                               ...         ...         ...         ...   \n",
       " 2023-12-27 00:00:00-05:00  192.490005  193.500000  191.089996  193.149994   \n",
       " 2023-12-28 00:00:00-05:00  194.139999  194.660004  193.169998  193.580002   \n",
       " 2023-12-29 00:00:00-05:00  193.899994  194.399994  191.729996  192.529999   \n",
       " 2024-01-02 00:00:00-05:00  187.149994  188.440002  183.889999  185.639999   \n",
       " 2024-01-03 00:00:00-05:00  184.220001  185.880005  183.429993  184.250000   \n",
       " \n",
       "                               Volume  Dividends  Stock Splits  \n",
       " Date                                                           \n",
       " 1980-12-12 00:00:00-05:00  469033600        0.0           0.0  \n",
       " 1980-12-15 00:00:00-05:00  175884800        0.0           0.0  \n",
       " 1980-12-16 00:00:00-05:00  105728000        0.0           0.0  \n",
       " 1980-12-17 00:00:00-05:00   86441600        0.0           0.0  \n",
       " 1980-12-18 00:00:00-05:00   73449600        0.0           0.0  \n",
       " ...                              ...        ...           ...  \n",
       " 2023-12-27 00:00:00-05:00   48087700        0.0           0.0  \n",
       " 2023-12-28 00:00:00-05:00   34049900        0.0           0.0  \n",
       " 2023-12-29 00:00:00-05:00   42628800        0.0           0.0  \n",
       " 2024-01-02 00:00:00-05:00   82488700        0.0           0.0  \n",
       " 2024-01-03 00:00:00-05:00   58371400        0.0           0.0  \n",
       " \n",
       " [10855 rows x 7 columns],\n",
       " {'Start': Timestamp('1980-12-12 00:00:00-0500', tz='America/New_York'),\n",
       "  'End': datetime.date(2024, 1, 4),\n",
       "  'Ticker': 'AAPL'})"
      ]
     },
     "execution_count": 2,
     "metadata": {},
     "output_type": "execute_result"
    }
   ],
   "source": [
    "ticker = 'AAPL'\n",
    "start = datetime.datetime(year = 1900, day = 1, month = 1)\n",
    "end = datetime.date.today()\n",
    "\n",
    "# No timeframe given\n",
    "fy.format_yahoo(ticker= ticker)\n",
    "\n",
    "print('\\n')\n",
    "# No data returned\n",
    "fy.format_yahoo(ticker= ticker, start= end, end = end)\n",
    "\n",
    "print('\\n')\n",
    "# Both period and end (end overwrites)\n",
    "fy.format_yahoo(ticker= ticker, period= '1yr', end=end)\n",
    "\n",
    "print('\\n')\n",
    "# Period too large for ticker)\n",
    "fy.format_yahoo(ticker= ticker, start= start, end = end)\n"
   ]
  }
 ],
 "metadata": {
  "kernelspec": {
   "display_name": "Python 3",
   "language": "python",
   "name": "python3"
  },
  "language_info": {
   "codemirror_mode": {
    "name": "ipython",
    "version": 3
   },
   "file_extension": ".py",
   "mimetype": "text/x-python",
   "name": "python",
   "nbconvert_exporter": "python",
   "pygments_lexer": "ipython3",
   "version": "3.12.0"
  }
 },
 "nbformat": 4,
 "nbformat_minor": 2
}
